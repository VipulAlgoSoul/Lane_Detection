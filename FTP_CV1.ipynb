{
 "cells": [
  {
   "cell_type": "markdown",
   "metadata": {},
   "source": [
    "#  <font color=yellow>Getting Started With Images</font>\n"
   ]
  },
  {
   "cell_type": "code",
   "execution_count": 1,
   "metadata": {},
   "outputs": [],
   "source": [
    "import cv2\n",
    "import numpy as np"
   ]
  },
  {
   "cell_type": "markdown",
   "metadata": {},
   "source": [
    "###  <font color=yellow>What are Images</font>\n"
   ]
  },
  {
   "cell_type": "code",
   "execution_count": 5,
   "metadata": {},
   "outputs": [
    {
     "name": "stdout",
     "output_type": "stream",
     "text": [
      "None\n"
     ]
    }
   ],
   "source": [
    "#![title](Collision Warning.png)\n",
    "i=cv2.imread(\"Collision Warning.png\")\n",
    "print(i)\n"
   ]
  },
  {
   "cell_type": "markdown",
   "metadata": {},
   "source": [
    "###  <font color=yellow>Read and Display Images</font>\n"
   ]
  },
  {
   "cell_type": "code",
   "execution_count": null,
   "metadata": {},
   "outputs": [],
   "source": [
    "imgo=cv2.imread(\"Road_in_Norway.jpg\")\n",
    "\n",
    "\n",
    "cv2.imshow(\"image\",imgo)\n",
    "cv2.waitKey(0)\n",
    "cv2.destroyAllWindows()"
   ]
  },
  {
   "cell_type": "markdown",
   "metadata": {},
   "source": [
    "waitkey(0) wait for ever >> normally input argument shows millisecond<br>"
   ]
  },
  {
   "cell_type": "code",
   "execution_count": null,
   "metadata": {},
   "outputs": [],
   "source": [
    "print(imgo.shape)"
   ]
  },
  {
   "cell_type": "markdown",
   "metadata": {},
   "source": [
    "#  <font color=yellow>Lane Detection In Case of Autonomous Vehicles</font>\n",
    "Wheter Crossed the lane<br>\n",
    "wether we are Over taking\n"
   ]
  },
  {
   "cell_type": "markdown",
   "metadata": {},
   "source": [
    "![title](Road_in_Norway.jpg)"
   ]
  },
  {
   "cell_type": "markdown",
   "metadata": {},
   "source": [
    "Lanes are Lines<br>\n",
    "Lines from Edges<br>\n",
    "Edges from GrayScale"
   ]
  },
  {
   "cell_type": "code",
   "execution_count": null,
   "metadata": {},
   "outputs": [],
   "source": [
    "imgo=cv2.imread(\"Road_in_Norway.jpg\")\n",
    "\n",
    "\n",
    "re_im=cv2.resize(imgo,(673,441))\n",
    "\n",
    "\n",
    "#cv2.imshow(\"image\",ed_im)\n",
    "cv2.imshow(\"image\",re_im)\n",
    "cv2.waitKey(0)\n",
    "cv2.destroyAllWindows()"
   ]
  },
  {
   "cell_type": "code",
   "execution_count": null,
   "metadata": {},
   "outputs": [],
   "source": [
    "print(imgo.shape)\n",
    "print(re_im.shape)"
   ]
  },
  {
   "cell_type": "code",
   "execution_count": null,
   "metadata": {},
   "outputs": [],
   "source": [
    "imgo=cv2.imread(\"Road_in_Norway.jpg\")\n",
    "re_im=cv2.resize(imgo,(673,441))\n",
    "\n",
    "\n",
    "gr_im=cv2.cvtColor(re_im,cv2.COLOR_BGR2GRAY)\n",
    "\n",
    "\n",
    "cv2.imshow(\"origianl\",re_im)\n",
    "cv2.imshow(\"image\",gr_im)\n",
    "cv2.waitKey(0)\n",
    "cv2.destroyAllWindows()"
   ]
  },
  {
   "cell_type": "code",
   "execution_count": null,
   "metadata": {},
   "outputs": [],
   "source": [
    "imgo=cv2.imread(\"Road_in_Norway.jpg\")\n",
    "re_im=cv2.resize(imgo,(673,441))\n",
    "gr_im=cv2.cvtColor(re_im,cv2.COLOR_BGR2GRAY)\n",
    "\n",
    "\n",
    "ed_im=cv2.Canny(gr_im,100,200) #Edges Canny\n",
    "\n",
    "\n",
    "cv2.imshow(\"edge\",ed_im)\n",
    "cv2.imshow(\"image\",gr_im)\n",
    "cv2.waitKey(0)\n",
    "cv2.destroyAllWindows()"
   ]
  },
  {
   "cell_type": "code",
   "execution_count": null,
   "metadata": {},
   "outputs": [],
   "source": [
    "#Defining Region of Interest\n",
    "imgo=cv2.imread(\"Road_in_Norway.jpg\")\n",
    "re_im=cv2.resize(imgo,(673,441))\n",
    "gr_im=cv2.cvtColor(re_im,cv2.COLOR_BGR2GRAY)\n",
    "ed_im=cv2.Canny(gr_im,100,200)\n",
    "\n",
    "\n",
    "#creating mask image\n",
    "mask_im=np.zeros_like(ed_im)\n",
    "vertices=np.array([[633,441],[400,200],[0,441]])\n",
    "cv2.fillPoly(mask_im,[vertices],(255))\n",
    "\n",
    "\n",
    "cv2.imshow(\"gray\",gr_im)\n",
    "cv2.imshow(\"Edge image\",ed_im)\n",
    "cv2.imshow(\"image\",mask_im)\n",
    "\n",
    "cv2.waitKey(0)\n",
    "cv2.destroyAllWindows()"
   ]
  },
  {
   "cell_type": "code",
   "execution_count": null,
   "metadata": {},
   "outputs": [],
   "source": [
    "imgo=cv2.imread(\"Road_in_Norway.jpg\")\n",
    "re_im=cv2.resize(imgo,(673,441))\n",
    "gr_im=cv2.cvtColor(re_im,cv2.COLOR_BGR2GRAY)\n",
    "ed_im=cv2.Canny(gr_im,100,200)\n",
    "#creating mask image\n",
    "mask_im=np.zeros_like(ed_im)\n",
    "#vertices=np.array([[673,441],[400,200],[380,200],[0,441]])\n",
    "vertices=np.array([[633,441],[400,200],[0,441]])\n",
    "cv2.fillPoly(mask_im,[vertices],(255))\n",
    "\n",
    "\n",
    "mask_gr_im=cv2.bitwise_and(gr_im,mask_im)\n",
    "mask_ed_im=cv2.bitwise_and(ed_im,mask_im)\n",
    "\n",
    "\n",
    "cv2.imshow(\"image\",mask_im)\n",
    "cv2.imshow(\"gray\",mask_gr_im)\n",
    "cv2.imshow(\"Edge image\",mask_ed_im)\n",
    "\n",
    "cv2.waitKey(0)\n",
    "cv2.destroyAllWindows()"
   ]
  },
  {
   "cell_type": "code",
   "execution_count": null,
   "metadata": {},
   "outputs": [],
   "source": [
    "imgo=cv2.imread(\"Road_in_Norway.jpg\")\n",
    "re_im=cv2.resize(imgo,(673,441))\n",
    "gr_im=cv2.cvtColor(re_im,cv2.COLOR_BGR2GRAY)\n",
    "ed_im=cv2.Canny(gr_im,100,200)\n",
    "#creating mask image\n",
    "mask_im=np.zeros_like(ed_im)\n",
    "#vertices=np.array([[673,441],[400,200],[380,200],[0,441]])\n",
    "vertices=np.array([[633,441],[400,200],[0,441]])\n",
    "cv2.fillPoly(mask_im,[vertices],(255))\n",
    "mask_ed_im=cv2.bitwise_and(ed_im,mask_im)\n",
    "#mask_or=cv2.bitwise_and(gr_im,mask_im)\n",
    "\n",
    "lines = cv2.HoughLinesP(mask_ed_im,2,np.pi/180,100,minLineLength=100,maxLineGap=50)\n",
    "for line in lines:\n",
    "    x1,y1,x2,y2=line[0]\n",
    "    cv2.line(re_im,(x1,y1),(x2,y2),(0,255,0),2)\n",
    "\n",
    "cv2.imshow(\"Color image\",re_im)\n",
    "cv2.imshow(\"image\",mask_ed_im)\n",
    "cv2.waitKey(0)\n",
    "cv2.destroyAllWindows()"
   ]
  },
  {
   "cell_type": "code",
   "execution_count": null,
   "metadata": {},
   "outputs": [],
   "source": []
  }
 ],
 "metadata": {
  "kernelspec": {
   "display_name": "Python 3",
   "language": "python",
   "name": "python3"
  },
  "language_info": {
   "codemirror_mode": {
    "name": "ipython",
    "version": 3
   },
   "file_extension": ".py",
   "mimetype": "text/x-python",
   "name": "python",
   "nbconvert_exporter": "python",
   "pygments_lexer": "ipython3",
   "version": "3.6.12"
  }
 },
 "nbformat": 4,
 "nbformat_minor": 4
}
