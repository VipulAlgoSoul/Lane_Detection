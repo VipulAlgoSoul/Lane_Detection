{
 "cells": [
  {
   "cell_type": "code",
   "execution_count": 2,
   "metadata": {},
   "outputs": [],
   "source": [
    "import cv2\n",
    "import numpy as np"
   ]
  },
  {
   "cell_type": "code",
   "execution_count": 5,
   "metadata": {},
   "outputs": [],
   "source": [
    "imgo=cv2.imread(\"Road_in_Norway.jpg\")\n",
    "\n",
    "#r,h,c=imgo.shape\n",
    "#print(r,c,h)\n",
    "re_im=cv2.pyrDown(imgo)\n",
    "gr_im=cv2.cvtColor(re_im,cv2.COLOR_BGR2GRAY)\n",
    "#re_im=cv2.cvtColor(re_im,cv2.COLOR_BGR2GRAY)\n",
    "#gr_im=cv2.pyrDown(imgo)\n",
    "\n",
    "\n",
    "ed_im=cv2.Canny(gr_im,100,200)\n",
    "\n",
    "#creating mask image\n",
    "mask_im=np.zeros_like(ed_im)\n",
    "#vertices=np.array([[673,441],[400,200],[380,200],[0,441]])\n",
    "vertices=np.array([[633,441],[400,200],[0,441]])\n",
    "cv2.fillPoly(mask_im,[vertices],(255))\n",
    "mask_or=cv2.bitwise_and(ed_im,mask_im)\n",
    "#mask_or=cv2.bitwise_and(gr_im,mask_im)\n",
    "\n",
    "lines = cv2.HoughLinesP(mask_or,2,np.pi/180,100,minLineLength=100,maxLineGap=50)\n",
    "for line in lines:\n",
    "    x1,y1,x2,y2=line[0]\n",
    "    cv2.line(re_im,(x1,y1),(x2,y2),(0,255,0),2)\n",
    "\n",
    "cv2.imshow(\"image\",ed_im)\n",
    "cv2.imshow(\"image\",mask_or)\n",
    "cv2.waitKey(0)\n",
    "cv2.destroyAllWindows()"
   ]
  },
  {
   "cell_type": "code",
   "execution_count": 6,
   "metadata": {},
   "outputs": [],
   "source": []
  },
  {
   "cell_type": "code",
   "execution_count": null,
   "metadata": {},
   "outputs": [],
   "source": []
  },
  {
   "cell_type": "code",
   "execution_count": null,
   "metadata": {},
   "outputs": [],
   "source": []
  }
 ],
 "metadata": {
  "kernelspec": {
   "display_name": "Python 3",
   "language": "python",
   "name": "python3"
  },
  "language_info": {
   "codemirror_mode": {
    "name": "ipython",
    "version": 3
   },
   "file_extension": ".py",
   "mimetype": "text/x-python",
   "name": "python",
   "nbconvert_exporter": "python",
   "pygments_lexer": "ipython3",
   "version": "3.6.10"
  }
 },
 "nbformat": 4,
 "nbformat_minor": 4
}
